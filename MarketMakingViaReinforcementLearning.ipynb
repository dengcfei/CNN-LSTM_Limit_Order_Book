{
  "nbformat": 4,
  "nbformat_minor": 0,
  "metadata": {
    "colab": {
      "provenance": [],
      "authorship_tag": "ABX9TyMT7H6fXZgNV7vUBR06zkIg",
      "include_colab_link": true
    },
    "kernelspec": {
      "name": "python3",
      "display_name": "Python 3"
    },
    "language_info": {
      "name": "python"
    }
  },
  "cells": [
    {
      "cell_type": "markdown",
      "metadata": {
        "id": "view-in-github",
        "colab_type": "text"
      },
      "source": [
        "<a href=\"https://colab.research.google.com/github/dengcfei/CNN-LSTM_Limit_Order_Book/blob/main/MarketMakingViaReinforcementLearning.ipynb\" target=\"_parent\"><img src=\"https://colab.research.google.com/assets/colab-badge.svg\" alt=\"Open In Colab\"/></a>"
      ]
    },
    {
      "cell_type": "code",
      "execution_count": 2,
      "metadata": {
        "colab": {
          "base_uri": "https://localhost:8080/"
        },
        "id": "Sab6l-iY0xAV",
        "outputId": "39e0775c-355d-46d4-c6c3-97f5e9b2caf9"
      },
      "outputs": [
        {
          "output_type": "stream",
          "name": "stdout",
          "text": [
            "3.8.1 2.12.0\n"
          ]
        }
      ],
      "source": [
        "#check env\n",
        "import nltk\n",
        "import tensorflow as tf\n",
        "print(nltk.__version__, tf.__version__)\n"
      ]
    },
    {
      "cell_type": "code",
      "source": [],
      "metadata": {
        "id": "2Po5FSdW1uCb"
      },
      "execution_count": null,
      "outputs": []
    }
  ]
}